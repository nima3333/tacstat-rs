{
 "cells": [
  {
   "cell_type": "code",
   "execution_count": 1,
   "metadata": {},
   "outputs": [],
   "source": [
    "import pickle\n"
   ]
  },
  {
   "cell_type": "code",
   "execution_count": 2,
   "metadata": {},
   "outputs": [
    {
     "name": "stdout",
     "output_type": "stream",
     "text": [
      "[('JF-17', 237.4236416666666), ('F-16C_50', 192.24048888888902), ('FA-18C_hornet', 90.21017222222214), ('AV8BNA', 57.282752777777766), ('F-15ESE', 38.28905555555557), ('AH-64D_BLK_II', 20.143588888888882), ('A-4E-C', 17.661350000000006), ('M-2000C', 13.437488888888895), ('Mirage-F1CE', 7.613369444444445), ('F-14B', 5.6029222222222215), ('A-10C_2', 1.7631055555555553), ('A-10A', 1.6296111111111111), ('P-51D-30-NA', 1.280386111111111), ('P-51D', 1.161725), ('UH-1H', 1.0006888888888894), ('F-4E-45MC', 0.9989055555555556), ('MiG-21Bis', 0.6995), ('F-5E-3', 0.3659861111111111), ('Su-25T', 0.2782111111111112), ('F-15C', 0.1844361111111109), ('Bronco-OV-10A', 0.16482222222222223), ('TF-51D', 0.055166666666666676), ('SA342M', 0.03556944444444444)]\n"
     ]
    }
   ],
   "source": [
    "\n",
    "with open(\"data.pkl\", \"rb\") as f:\n",
    "    data = pickle.load(f)\n",
    "\n",
    "print(data)  # This should output: {'one': 1, 'two': 2}"
   ]
  },
  {
   "cell_type": "code",
   "execution_count": 3,
   "metadata": {},
   "outputs": [
    {
     "name": "stdout",
     "output_type": "stream",
     "text": [
      "[('weapons.shells.M61_20_PGU28', 11204), ('F-15E_PILOT_SEATF', 3), ('weapons.shells.50Browning_APIT_M20', 273), ('weapons.shells.5_45x39_NOtr', 176), ('weapons.shells.M256_120_HE', 9), ('R-3S', 1), ('GB-6-SFW', 14), ('AGR_20_M282', 108), ('PL-5EII', 78), ('weapons.shells.M61_20_TP', 219), ('GBU-38', 2), ('AIM-9S (GREEN)', 5), ('PILOT_L39', 1), ('Mk-82', 6), ('Mirage F1 Fuel Tank 1200 gal', 3), ('F-15E_PILOT_SEATR', 12), ('weapons.shells.2A7_23_HE', 3238), ('9K114 Shturm', 2), ('REFLEX', 1), ('C-701IR', 13), ('weapons.shells.GSH301_30_HE', 6), ('weapons.shells.M39_20_HEI_T', 58), ('AN-M88', 2), ('weapons.shells.KPVT_14_5', 1774), ('MER-5E', 6), ('P_24T', 1), ('MIG-21_PILOT', 4), ('CBU_103', 1), ('P_60', 8), ('R_530F_IR', 1), ('MMagicII', 10), ('weapons.shells.50Browning_API_M8', 280), ('weapons.shells.YakB_12_7_T', 102), ('M-2000C_PILOT', 4), ('PILOT_SU27_SEAT', 26), ('SA9M31', 4), ('weapons.shells.MG_20x82_MGsch', 1), ('AIM-7MH', 5), ('weapons.shells.GSh_30_2K_HE_Tr', 20), ('BLU-97B', 4), ('AIM-7P', 1), ('weapons.shells.KPVT_14_5_T', 1357), ('weapons.shells.NR30_30x155_HEI_T', 6), ('HYDRA_70_M229', 45), ('Igla_1E', 3), ('PILOT_J11A', 1), ('PG_16V', 2), ('AGM_122', 17), ('SA9M33', 1), ('weapons.shells.M2_12_7', 104), ('AGM_114K', 61), ('weapons.shells.M61_20_PGU27', 1158), ('weapons.shells.M2_12_7_T', 29), ('weapons.shells.DEFA552_30', 548), ('AV8BNA_AERO1D', 11), ('MIM_104', 40), ('weapons.shells.DEFA554_30_HE_TRACERS', 854), ('weapons.shells.MG_13x64_API', 3), ('weapons.shells.MK_108_HEI', 2), ('weapons.shells.7_62x54', 398), ('1100L Tank', 19), ('PILOT_F18', 2), ('AIM_9X', 75), ('weapons.shells.YakB_12_7', 92), ('AGM_65D', 23), ('SAMP250LD', 1), ('AIM-9L', 3), ('weapons.shells.M134_7_62_T', 1078), ('AIS-POD-T50', 2), ('CBU_87', 33), ('SD-10', 371), ('CM-802AKG', 6), ('Tigr_233036', 1), ('weapons.shells.M61_20_HE', 10740), ('weapons.shells.Bofors_40mm_HE', 1), ('weapons.shells.M56A3_HE_RED', 913), ('AV8BNA_PILOT', 5), ('weapons.shells.DEFA554_30_HE', 1157), ('AIM-9M', 2), ('AGM_88', 118), ('GBU_12', 154), ('AGM_154A', 6), ('GBU_10', 2), ('Hummer', 5), ('AIM_120', 6), ('weapons.shells.KDA_35_HE', 23), ('weapons.shells.2A38_30_AP', 27), ('MK_82AIR', 26), ('SAMP400HD', 1), ('SNEB_TYPE253_F1B', 57), ('TYPE-200A', 17), ('weapons.shells.2A38_30_HE', 93), ('Mk_83', 15), ('weapons.shells.20x110mm AP-T', 271), ('800L Tank', 161), ('FA-18C_hornet', 2), ('weapons.shells.7.62x51mm', 527), ('F-15E_Drop_Tank_Empty', 4), ('PILOT+KM1', 2), ('M2KC_RPL_522', 7), ('Pilot', 101), ('weapons.shells.GAU8_30_AP', 417), ('Matra Super 530D', 12), ('weapons.shells.M2_12_7_TR', 2), ('F-15E_Drop_Tank', 6), ('AGM_84D', 16), ('GBU_54_V_1B', 29), ('GB-6-HE', 4), ('weapons.shells.GSH23_23_HE_T', 3396), ('AGM-122 Sidearm', 1), ('weapons.shells.AK630_30_AP', 174), ('GBU_31_V_3B', 2), ('SA9M333', 4), ('weapons.shells.M61_20_HE_gr', 47), ('weapons.shells.GSH_23_AP', 44), ('weapons.shells.7_62x51', 62), ('R_550_M1', 1), ('B-8V20A', 2), ('weapons.shells.Rh202_20_HE', 28), ('GBU_31_V_4B', 4), ('weapons.shells.2A64_152', 112), ('P_24R', 1), ('AGM_65L', 12), ('weapons.shells.5_56x45', 529), ('weapons.shells.5_45x39', 103), ('PILOT_F15_00_SEAT', 26), ('F-15E_PILOTF', 3), ('BLU-108', 18), ('TOW-PILON', 1), ('weapons.shells.Utes_12_7x108_T', 928), ('GBU_31', 5), ('weapons.shells.20x110mm AP-I', 282), ('GBU_38', 46), ('CBU_105', 37), ('LS-6-250', 10), ('LS-6-100', 2), ('R_530F_EM', 4), ('weapons.shells.GSh_30_2K_HE', 57), ('800L Tank Empty', 1), ('HYDRA_70_M156', 14), ('AIM_7', 7), ('LUU_2B', 33), ('weapons.shells.AK630_30_HE', 166), ('AV8BNA_PILOT_SEAT', 9), ('R530F EM', 5), ('AIM-9JULI', 4), ('PILOT_F16_SEAT', 3), ('BLU_4B', 100), ('weapons.shells.M242_25_HE_M792', 1), ('fuel tank 800 l wing', 3), ('weapons.shells.GSH_23_HE', 56), ('Mk20 Rockeye', 6), ('AGM_45A', 4), ('AIM-7M', 1), ('HYDRA_70_M151', 194), ('AIM_9', 45), ('Mk 118', 20), ('weapons.shells.7_62x54_NOTRACER', 462), ('M.S530D', 3), ('weapons.shells.M230_HEDP M789', 1601), ('weapons.shells.NR30_30x155_APHE', 1), ('weapons.shells.PKT_7_62_T', 9), ('GB-6', 2), ('PILOT+ACES', 33), ('weapons.shells.MK_108_MGsch', 1), ('weapons.shells.M242_25_AP_M791', 136), ('AGM_62', 12), ('FFAR Mk1 HE', 3), ('weapons.shells.M256_120_AP', 5), ('PILOT_F18_SEAT', 2), ('weapons.shells.2A7_23_AP', 1059), ('UG_90MM', 10), ('Soldier M4', 1), ('AGM_65G', 4), ('SVIR', 4), ('Mk_84', 10), ('CBU_97', 46), ('FPU_8A', 55), ('MIRAGE-F1_PILOT+EJECTIONSEAT', 1), ('HAWK_RAKETA', 21), ('AGM_65K', 4), ('weapons.shells.PKT_7_62', 38), ('LD-10', 99), ('F-14B_GRU7', 6), ('weapons.shells.GAU8_30_HE', 101), ('PILOT_F16', 3), ('weapons.shells.20x110mm HE-I', 512), ('weapons.shells.M61_20_PGU30', 1157), ('SA3M9M', 3), ('weapons.shells.MG_13x64_APT', 2), ('BLU_4B_GROUP', 103), ('AGM_114', 6), ('weapons.shells.NR30_30x155_APT', 2), ('GBU_24', 6), ('ADM_141A', 42), ('weapons.shells.M61_20_AP_gr', 51), ('P_73', 6), ('GBU_16', 8), ('PILOT+K37', 1), ('AIM_120C', 477), ('AIM-120C', 4), ('AIM-9P5', 4), ('BLU_3B_GROUP', 259), ('Mk_82', 114), ('SM_2', 5), ('weapons.shells.M61_20_TP_T', 208), ('MIRAGE-F1_PILOT_01', 2), ('weapons.shells.GSh_30_2K_AP', 82), ('Mk_84AIR_GP', 6), ('AIM_54C_Mk47', 2), ('weapons.shells.50Browning_Ball_M2', 283), ('R_550', 1), ('HYDRA_70_MK5', 93), ('M-2000C_PILOTSEAT', 1), ('CBU_99', 3), ('MIM_72G', 2), ('BRM-1_90MM', 204), ('AIM-9S (WHITE)', 29), ('MM-06', 1), ('weapons.shells.50Browning_AP_M2', 551), ('weapons.shells.53-UOR-281U', 6), ('AGM_65E', 15), ('weapons.shells.7_62x51tr', 12), ('weapons.shells.2A42_30_HE', 828), ('Mk_81', 30), ('weapons.shells.M61_20_AP', 13), ('ROLAND_R', 7), ('AGM_65H', 22), ('Zuni_127', 31), ('GBU-12', 10), ('weapons.shells.M39_20_HEI', 206), ('F-15E_PILOT_SEAT', 4), ('PILOT_AH64', 2), ('PILOT_P51', 1), ('weapons.shells.PGU32_SAPHEI_T', 1887), ('Fuel tank 300 gal', 4), ('weapons.shells.MG_20x82_HEI_T', 1), ('weapons.shells.Utes_12_7x108', 1175), ('MK_82SNAKEYE', 50), ('F-15E_PILOTR', 12), ('R-60', 1), ('PILOT_F15_00', 24), ('C-701T', 6), ('KAB_500Kr', 2), ('PILOT_L39_SEAT', 2), ('C-802AK', 36), ('fuel tank 800 l', 1), ('AGM_65F', 9), ('SPRD-99', 1), ('HYDRA_70_M257', 8), ('BLU_3B', 276), ('fuel_tank_370gal', 42), ('weapons.shells.M53_APT_RED', 208), ('weapons.shells.M61_20_HEIT_RED', 688), ('AN_M57', 16), ('ROCKEYE', 21), ('fuel_tank_300gal', 47), ('HYDRA_70_M274', 14), ('weapons.shells.MG_13x64_HE', 4), ('LS-6-500', 9), ('CATM-9M', 1)]\n"
     ]
    }
   ],
   "source": [
    "with open(\"weapon.pkl\", \"rb\") as f:\n",
    "    data = pickle.load(f)\n",
    "\n",
    "print(data)  # This should output: {'one': 1, 'two': 2}"
   ]
  },
  {
   "cell_type": "code",
   "execution_count": 5,
   "metadata": {},
   "outputs": [
    {
     "data": {
      "text/plain": [
       "[('AIM_120C', 477),\n",
       " ('SD-10', 371),\n",
       " ('BLU_3B', 276),\n",
       " ('BRM-1_90MM', 204),\n",
       " ('HYDRA_70_M151', 194),\n",
       " ('800L Tank', 161),\n",
       " ('GBU_12', 154),\n",
       " ('AGM_88', 118),\n",
       " ('Mk_82', 114),\n",
       " ('AGR_20_M282', 108),\n",
       " ('BLU_4B', 100),\n",
       " ('LD-10', 99),\n",
       " ('HYDRA_70_MK5', 93),\n",
       " ('PL-5EII', 78),\n",
       " ('AIM_9X', 75),\n",
       " ('AGM_114K', 61),\n",
       " ('SNEB_TYPE253_F1B', 57),\n",
       " ('FPU_8A', 55),\n",
       " ('MK_82SNAKEYE', 50),\n",
       " ('fuel_tank_300gal', 47),\n",
       " ('GBU_38', 46),\n",
       " ('CBU_97', 46),\n",
       " ('HYDRA_70_M229', 45),\n",
       " ('AIM_9', 45),\n",
       " ('ADM_141A', 42),\n",
       " ('fuel_tank_370gal', 42),\n",
       " ('MIM_104', 40),\n",
       " ('CBU_105', 37),\n",
       " ('C-802AK', 36),\n",
       " ('CBU_87', 33),\n",
       " ('LUU_2B', 33),\n",
       " ('Zuni_127', 31),\n",
       " ('Mk_81', 30),\n",
       " ('GBU_54_V_1B', 29),\n",
       " ('AIM-9S (WHITE)', 29),\n",
       " ('MK_82AIR', 26),\n",
       " ('AGM_65D', 23),\n",
       " ('AGM_65H', 22),\n",
       " ('HAWK_RAKETA', 21),\n",
       " ('ROCKEYE', 21),\n",
       " ('Mk 118', 20),\n",
       " ('1100L Tank', 19),\n",
       " ('BLU-108', 18),\n",
       " ('AGM_122', 17),\n",
       " ('TYPE-200A', 17),\n",
       " ('AGM_84D', 16),\n",
       " ('AN_M57', 16),\n",
       " ('Mk_83', 15),\n",
       " ('AGM_65E', 15),\n",
       " ('GB-6-SFW', 14),\n",
       " ('HYDRA_70_M156', 14),\n",
       " ('HYDRA_70_M274', 14),\n",
       " ('C-701IR', 13),\n",
       " ('Matra Super 530D', 12),\n",
       " ('AGM_65L', 12),\n",
       " ('AGM_62', 12),\n",
       " ('AV8BNA_AERO1D', 11),\n",
       " ('MMagicII', 10),\n",
       " ('LS-6-250', 10),\n",
       " ('UG_90MM', 10),\n",
       " ('Mk_84', 10),\n",
       " ('GBU-12', 10),\n",
       " ('AGM_65F', 9),\n",
       " ('LS-6-500', 9),\n",
       " ('P_60', 8),\n",
       " ('GBU_16', 8),\n",
       " ('HYDRA_70_M257', 8),\n",
       " ('M2KC_RPL_522', 7),\n",
       " ('AIM_7', 7),\n",
       " ('ROLAND_R', 7),\n",
       " ('Mk-82', 6),\n",
       " ('MER-5E', 6),\n",
       " ('CM-802AKG', 6),\n",
       " ('AGM_154A', 6),\n",
       " ('AIM_120', 6),\n",
       " ('F-15E_Drop_Tank', 6),\n",
       " ('Mk20 Rockeye', 6),\n",
       " ('F-14B_GRU7', 6),\n",
       " ('AGM_114', 6),\n",
       " ('GBU_24', 6),\n",
       " ('P_73', 6),\n",
       " ('Mk_84AIR_GP', 6),\n",
       " ('C-701T', 6),\n",
       " ('AIM-9S (GREEN)', 5),\n",
       " ('AIM-7MH', 5),\n",
       " ('Hummer', 5),\n",
       " ('GBU_31', 5),\n",
       " ('R530F EM', 5),\n",
       " ('SM_2', 5),\n",
       " ('SA9M31', 4),\n",
       " ('BLU-97B', 4),\n",
       " ('F-15E_Drop_Tank_Empty', 4),\n",
       " ('GB-6-HE', 4),\n",
       " ('SA9M333', 4),\n",
       " ('GBU_31_V_4B', 4),\n",
       " ('R_530F_EM', 4),\n",
       " ('AIM-9JULI', 4),\n",
       " ('AGM_45A', 4),\n",
       " ('AGM_65G', 4),\n",
       " ('SVIR', 4),\n",
       " ('AGM_65K', 4),\n",
       " ('AIM-120C', 4),\n",
       " ('AIM-9P5', 4),\n",
       " ('Fuel tank 300 gal', 4),\n",
       " ('Mirage F1 Fuel Tank 1200 gal', 3),\n",
       " ('Igla_1E', 3),\n",
       " ('AIM-9L', 3),\n",
       " ('fuel tank 800 l wing', 3),\n",
       " ('M.S530D', 3),\n",
       " ('FFAR Mk1 HE', 3),\n",
       " ('SA3M9M', 3),\n",
       " ('CBU_99', 3),\n",
       " ('GBU-38', 2),\n",
       " ('9K114 Shturm', 2),\n",
       " ('AN-M88', 2),\n",
       " ('PG_16V', 2),\n",
       " ('AIS-POD-T50', 2),\n",
       " ('AIM-9M', 2),\n",
       " ('GBU_10', 2),\n",
       " ('FA-18C_hornet', 2),\n",
       " ('GBU_31_V_3B', 2),\n",
       " ('B-8V20A', 2),\n",
       " ('LS-6-100', 2),\n",
       " ('GB-6', 2),\n",
       " ('AIM_54C_Mk47', 2),\n",
       " ('MIM_72G', 2),\n",
       " ('KAB_500Kr', 2),\n",
       " ('R-3S', 1),\n",
       " ('REFLEX', 1),\n",
       " ('P_24T', 1),\n",
       " ('CBU_103', 1),\n",
       " ('R_530F_IR', 1),\n",
       " ('AIM-7P', 1),\n",
       " ('SA9M33', 1),\n",
       " ('SAMP250LD', 1),\n",
       " ('Tigr_233036', 1),\n",
       " ('SAMP400HD', 1),\n",
       " ('AGM-122 Sidearm', 1),\n",
       " ('R_550_M1', 1),\n",
       " ('P_24R', 1),\n",
       " ('TOW-PILON', 1),\n",
       " ('800L Tank Empty', 1),\n",
       " ('AIM-7M', 1),\n",
       " ('R_550', 1),\n",
       " ('MM-06', 1),\n",
       " ('R-60', 1),\n",
       " ('fuel tank 800 l', 1),\n",
       " ('SPRD-99', 1),\n",
       " ('CATM-9M', 1)]"
      ]
     },
     "execution_count": 5,
     "metadata": {},
     "output_type": "execute_result"
    }
   ],
   "source": [
    "filtered=['PILOT', 'weapons.shells', 'SEAT', 'GROUP', 'Soldier', 'Pilot']\n",
    "\n",
    "list(filter(lambda a: not any(substr in a[0] for substr in filtered), sorted(data, key=lambda a: a[1], reverse=True)))"
   ]
  },
  {
   "cell_type": "code",
   "execution_count": null,
   "metadata": {},
   "outputs": [],
   "source": []
  }
 ],
 "metadata": {
  "kernelspec": {
   "display_name": "Python 3",
   "language": "python",
   "name": "python3"
  },
  "language_info": {
   "codemirror_mode": {
    "name": "ipython",
    "version": 3
   },
   "file_extension": ".py",
   "mimetype": "text/x-python",
   "name": "python",
   "nbconvert_exporter": "python",
   "pygments_lexer": "ipython3",
   "version": "3.13.1"
  }
 },
 "nbformat": 4,
 "nbformat_minor": 2
}
